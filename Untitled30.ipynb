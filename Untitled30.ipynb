{
 "cells": [
  {
   "cell_type": "code",
   "execution_count": null,
   "id": "d02475a8",
   "metadata": {},
   "outputs": [],
   "source": [
    "import cv2\n",
    "import os\n",
    "\n",
    "# Set the path to the directory containing your MP4 files\n",
    "input_directory = 'whatever'\n",
    "\n",
    "# Create a new folder for the extracted frames\n",
    "output_directory = 'non_commercial_frames'\n",
    "os.makedirs(output_directory, exist_ok=True)\n",
    "\n",
    "# Function to extract frames from a video file\n",
    "def extract_frames(video_path, output_folder):\n",
    "    # Open the video file\n",
    "    cap = cv2.VideoCapture(video_path)\n",
    "    \n",
    "    # Get the frames per second (fps) of the video\n",
    "    fps = int(cap.get(cv2.CAP_PROP_FPS))\n",
    "    \n",
    "    # Initialize frame count\n",
    "    frame_count = 0\n",
    "    \n",
    "    while True:\n",
    "        ret, frame = cap.read()\n",
    "        \n",
    "        if not ret:\n",
    "            break\n",
    "        \n",
    "        # Save the frame at 1 fps\n",
    "        if frame_count % fps == 0:\n",
    "            frame_filename = os.path.join(output_folder, f\"frame_{frame_count // fps}.jpg\")\n",
    "            cv2.imwrite(frame_filename, frame)\n",
    "        \n",
    "        frame_count += 1\n",
    "    \n",
    "    cap.release()\n",
    "\n",
    "# Iterate through each MP4 file in the input directory\n",
    "for filename in os.listdir(input_directory):\n",
    "    if filename.endswith('.mp4'):\n",
    "        video_path = os.path.join(input_directory, filename)\n",
    "        extract_frames(video_path, output_directory)\n",
    "\n",
    "print(\"Frames extraction completed.\")\n"
   ]
  },
  {
   "cell_type": "code",
   "execution_count": null,
   "id": "db13c575",
   "metadata": {},
   "outputs": [],
   "source": []
  }
 ],
 "metadata": {
  "kernelspec": {
   "display_name": "Python 3 (ipykernel)",
   "language": "python",
   "name": "python3"
  },
  "language_info": {
   "codemirror_mode": {
    "name": "ipython",
    "version": 3
   },
   "file_extension": ".py",
   "mimetype": "text/x-python",
   "name": "python",
   "nbconvert_exporter": "python",
   "pygments_lexer": "ipython3",
   "version": "3.10.12"
  }
 },
 "nbformat": 4,
 "nbformat_minor": 5
}

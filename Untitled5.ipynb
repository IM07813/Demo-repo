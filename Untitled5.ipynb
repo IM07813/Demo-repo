{
 "cells": [
  {
   "cell_type": "code",
   "execution_count": 5,
   "id": "a99eaf63",
   "metadata": {},
   "outputs": [
    {
     "name": "stdout",
     "output_type": "stream",
     "text": [
      "Defaulting to user installation because normal site-packages is not writeable\n",
      "Looking in indexes: https://pypi.org/simple, https://pypi.ngc.nvidia.com\n",
      "Collecting pydub\n",
      "  Downloading pydub-0.25.1-py2.py3-none-any.whl (32 kB)\n",
      "Installing collected packages: pydub\n",
      "Successfully installed pydub-0.25.1\n",
      "\n",
      "\u001b[1m[\u001b[0m\u001b[34;49mnotice\u001b[0m\u001b[1;39;49m]\u001b[0m\u001b[39;49m A new release of pip is available: \u001b[0m\u001b[31;49m23.0.1\u001b[0m\u001b[39;49m -> \u001b[0m\u001b[32;49m23.2.1\u001b[0m\n",
      "\u001b[1m[\u001b[0m\u001b[34;49mnotice\u001b[0m\u001b[1;39;49m]\u001b[0m\u001b[39;49m To update, run: \u001b[0m\u001b[32;49mpython3 -m pip install --upgrade pip\u001b[0m\n",
      "\u001b[1;31mE: \u001b[0mCould not open lock file /var/lib/dpkg/lock-frontend - open (13: Permission denied)\u001b[0m\n",
      "\u001b[1;31mE: \u001b[0mUnable to acquire the dpkg frontend lock (/var/lib/dpkg/lock-frontend), are you root?\u001b[0m\n"
     ]
    }
   ],
   "source": [
    "!pip install pydub\n",
    "!apt install ffmpeg\n"
   ]
  },
  {
   "cell_type": "code",
   "execution_count": 6,
   "id": "fd49d17a",
   "metadata": {},
   "outputs": [],
   "source": [
    "import numpy as np\n",
    "import librosa\n",
    "import requests\n",
    "from sklearn.metrics.pairwise import cosine_similarity\n"
   ]
  },
  {
   "cell_type": "code",
   "execution_count": 8,
   "id": "40814bb3",
   "metadata": {},
   "outputs": [
    {
     "name": "stdout",
     "output_type": "stream",
     "text": [
      "[[0.9999998]]\n"
     ]
    }
   ],
   "source": [
    "\n",
    "# URL of the .wav file\n",
    "url = 'https://www2.cs.uic.edu/~i101/SoundFiles/PinkPanther30.wav'\n",
    "\n",
    "# Download the file\n",
    "r = requests.get(url)\n",
    "\n",
    "# Save it as a .wav file\n",
    "with open('audio.wav', 'wb') as f:\n",
    "    f.write(r.content)\n",
    "\n",
    "# Load the audio file\n",
    "y, sr = librosa.load('audio.wav')\n",
    "\n",
    "# Generate the spectrogram\n",
    "spectrogram = np.abs(librosa.stft(y))\n",
    "\n",
    "# Generate the fingerprint\n",
    "fingerprint = np.mean(spectrogram, axis=0)\n",
    "\n",
    "# Just for the sake of example, let's compare the fingerprint with itself\n",
    "similarity = cosine_similarity(fingerprint.reshape(1, -1), fingerprint.reshape(1, -1))\n",
    "\n",
    "print(similarity)\n"
   ]
  },
  {
   "cell_type": "code",
   "execution_count": null,
   "id": "04d18d62",
   "metadata": {},
   "outputs": [],
   "source": []
  }
 ],
 "metadata": {
  "kernelspec": {
   "display_name": "Python 3 (ipykernel)",
   "language": "python",
   "name": "python3"
  },
  "language_info": {
   "codemirror_mode": {
    "name": "ipython",
    "version": 3
   },
   "file_extension": ".py",
   "mimetype": "text/x-python",
   "name": "python",
   "nbconvert_exporter": "python",
   "pygments_lexer": "ipython3",
   "version": "3.10.12"
  }
 },
 "nbformat": 4,
 "nbformat_minor": 5
}

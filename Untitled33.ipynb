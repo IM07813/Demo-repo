{
 "cells": [
  {
   "cell_type": "code",
   "execution_count": 1,
   "id": "5265060d",
   "metadata": {},
   "outputs": [
    {
     "ename": "ValueError",
     "evalue": "Invalid model file data. Please parse in a '.pt' and '.pth' model file.",
     "output_type": "error",
     "traceback": [
      "\u001b[0;31m---------------------------------------------------------------------------\u001b[0m",
      "\u001b[0;31mValueError\u001b[0m                                Traceback (most recent call last)",
      "Cell \u001b[0;32mIn[1], line 9\u001b[0m\n\u001b[1;32m      7\u001b[0m \u001b[38;5;66;03m# Step 2: Load the YOLO model\u001b[39;00m\n\u001b[1;32m      8\u001b[0m vid_obj_detect\u001b[38;5;241m.\u001b[39msetModelTypeAsYOLOv3()\n\u001b[0;32m----> 9\u001b[0m \u001b[43mvid_obj_detect\u001b[49m\u001b[38;5;241;43m.\u001b[39;49m\u001b[43msetModelPath\u001b[49m\u001b[43m(\u001b[49m\u001b[38;5;124;43m\"\u001b[39;49m\u001b[38;5;124;43m/home/waqar/data\u001b[39;49m\u001b[38;5;124;43m\"\u001b[39;49m\u001b[43m)\u001b[49m\n\u001b[1;32m     10\u001b[0m vid_obj_detect\u001b[38;5;241m.\u001b[39mloadModel()\n\u001b[1;32m     12\u001b[0m \u001b[38;5;66;03m# Step 3: Define the forFrame function to process each frame from the webcam\u001b[39;00m\n",
      "File \u001b[0;32m~/.local/lib/python3.10/site-packages/imageai/Detection/__init__.py:569\u001b[0m, in \u001b[0;36mVideoObjectDetection.setModelPath\u001b[0;34m(self, model_path)\u001b[0m\n\u001b[1;32m    568\u001b[0m \u001b[38;5;28;01mdef\u001b[39;00m \u001b[38;5;21msetModelPath\u001b[39m(\u001b[38;5;28mself\u001b[39m, model_path: \u001b[38;5;28mstr\u001b[39m):\n\u001b[0;32m--> 569\u001b[0m     \u001b[43mextension_check\u001b[49m\u001b[43m(\u001b[49m\u001b[43mmodel_path\u001b[49m\u001b[43m)\u001b[49m\n\u001b[1;32m    570\u001b[0m     \u001b[38;5;28mself\u001b[39m\u001b[38;5;241m.\u001b[39m__detector\u001b[38;5;241m.\u001b[39msetModelPath(model_path)\n",
      "File \u001b[0;32m~/.local/lib/python3.10/site-packages/imageai/backend_check/model_extension.py:7\u001b[0m, in \u001b[0;36mextension_check\u001b[0;34m(file_path)\u001b[0m\n\u001b[1;32m      5\u001b[0m     \u001b[38;5;28;01mraise\u001b[39;00m \u001b[38;5;167;01mRuntimeError\u001b[39;00m(\u001b[38;5;124m\"\u001b[39m\u001b[38;5;124mYou are trying to use a Tensorflow model with ImageAI. ImageAI now uses PyTorch as backed as from version 3.0.2 . If you want to use the Tensorflow models or a customly trained \u001b[39m\u001b[38;5;124m'\u001b[39m\u001b[38;5;124m.h5\u001b[39m\u001b[38;5;124m'\u001b[39m\u001b[38;5;124m model, install ImageAI 2.1.6 or earlier. To use the latest Pytorch models, see the documentation in https://imageai.readthedocs.io/\u001b[39m\u001b[38;5;124m\"\u001b[39m)\n\u001b[1;32m      6\u001b[0m \u001b[38;5;28;01melif\u001b[39;00m file_path\u001b[38;5;241m.\u001b[39mendswith(\u001b[38;5;124m\"\u001b[39m\u001b[38;5;124m.pt\u001b[39m\u001b[38;5;124m\"\u001b[39m) \u001b[38;5;241m==\u001b[39m \u001b[38;5;28;01mFalse\u001b[39;00m \u001b[38;5;129;01mand\u001b[39;00m file_path\u001b[38;5;241m.\u001b[39mendswith(\u001b[38;5;124m\"\u001b[39m\u001b[38;5;124m.pth\u001b[39m\u001b[38;5;124m\"\u001b[39m) \u001b[38;5;241m==\u001b[39m \u001b[38;5;28;01mFalse\u001b[39;00m:\n\u001b[0;32m----> 7\u001b[0m     \u001b[38;5;28;01mraise\u001b[39;00m \u001b[38;5;167;01mValueError\u001b[39;00m(\u001b[38;5;124mf\u001b[39m\u001b[38;5;124m\"\u001b[39m\u001b[38;5;124mInvalid model file \u001b[39m\u001b[38;5;132;01m{\u001b[39;00mos\u001b[38;5;241m.\u001b[39mpath\u001b[38;5;241m.\u001b[39mbasename(file_path)\u001b[38;5;132;01m}\u001b[39;00m\u001b[38;5;124m. Please parse in a \u001b[39m\u001b[38;5;124m'\u001b[39m\u001b[38;5;124m.pt\u001b[39m\u001b[38;5;124m'\u001b[39m\u001b[38;5;124m and \u001b[39m\u001b[38;5;124m'\u001b[39m\u001b[38;5;124m.pth\u001b[39m\u001b[38;5;124m'\u001b[39m\u001b[38;5;124m model file.\u001b[39m\u001b[38;5;124m\"\u001b[39m)\n",
      "\u001b[0;31mValueError\u001b[0m: Invalid model file data. Please parse in a '.pt' and '.pth' model file."
     ]
    }
   ],
   "source": [
    "import cv2\n",
    "from imageai.Detection import VideoObjectDetection\n",
    "\n",
    "# Step 1: Create an instance of the VideoObjectDetection class\n",
    "vid_obj_detect = VideoObjectDetection()\n",
    "\n",
    "# Step 2: Load the YOLO model\n",
    "vid_obj_detect.setModelTypeAsYOLOv3()\n",
    "vid_obj_detect.setModelPath(\"/home/waqar/data\")\n",
    "vid_obj_detect.loadModel()\n",
    "\n",
    "# Step 3: Define the forFrame function to process each frame from the webcam\n",
    "def forFrame(frame_number, output_array, output_count):\n",
    "    # Process the output array and count for detected logos\n",
    "    print(\"Frame: \", frame_number)\n",
    "    for logo in output_array:\n",
    "        print(logo[\"name\"], \" : \", logo[\"percentage_probability\"])\n",
    "    print(\"Total logos detected: \", output_count)\n",
    "\n",
    "# Step 4: Use OpenCV to access the webcam feed and process each frame\n",
    "camera = cv2.VideoCapture(0)  # 0 for webcam\n",
    "frame_count = 0\n",
    "\n",
    "while True:\n",
    "    ret, frame = camera.read()\n",
    "    \n",
    "    if not ret:\n",
    "        break\n",
    "    \n",
    "    frame_count += 1\n",
    "    vid_obj_detect.detectObjectsFromVideoFrame(frame_number=frame_count, frame_input=frame, output_file_path=\"frame_detected.jpg\", \n",
    "                                               per_frame_function=forFrame, minimum_percentage_probability=30)\n",
    "    \n",
    "    cv2.imshow(\"Webcam\", frame)\n",
    "    \n",
    "    if cv2.waitKey(1) & 0xFF == ord('q'):\n",
    "        break\n",
    "\n",
    "camera.release()\n",
    "cv2.destroyAllWindows()"
   ]
  },
  {
   "cell_type": "code",
   "execution_count": null,
   "id": "353360a0",
   "metadata": {},
   "outputs": [],
   "source": []
  }
 ],
 "metadata": {
  "kernelspec": {
   "display_name": "Python 3 (ipykernel)",
   "language": "python",
   "name": "python3"
  },
  "language_info": {
   "codemirror_mode": {
    "name": "ipython",
    "version": 3
   },
   "file_extension": ".py",
   "mimetype": "text/x-python",
   "name": "python",
   "nbconvert_exporter": "python",
   "pygments_lexer": "ipython3",
   "version": "3.10.12"
  }
 },
 "nbformat": 4,
 "nbformat_minor": 5
}

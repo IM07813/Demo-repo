{
 "cells": [
  {
   "cell_type": "markdown",
   "id": "27b0b540",
   "metadata": {},
   "source": [
    "#variables \n",
    "a \n",
    "b\n",
    "zack \n",
    "waqar\n",
    "bilal\n",
    "bilal1131314\n",
    "\n",
    "integers \n",
    "1, 2,3,-5,7743,42424,-543646\n",
    "\n",
    "floats \n",
    "1.2 , 1.24\n",
    "\n",
    "strings \n",
    "waqar \n",
    "a = waqar _> errir\n",
    "a = \"waqar\"\n",
    "print(a)\n",
    "zack \n",
    "where are you\n",
    "how are you?\n",
    "what are you doing?\n",
    "combinations of alphabets are strings \n",
    "\n",
    "lists \n",
    "zack\n",
    "waqar\n",
    "ahmed\n",
    "bilal\n",
    "\n",
    "z2 = [\"zack\", \"waqar\", \"ahmed\", \"bilal\"]\n",
    "() \n",
    "{}\n",
    "\n",
    "tuples \n",
    "b = ()"
   ]
  },
  {
   "cell_type": "code",
   "execution_count": 3,
   "id": "c0acf94d",
   "metadata": {},
   "outputs": [
    {
     "name": "stdout",
     "output_type": "stream",
     "text": [
      "waqar\n"
     ]
    }
   ],
   "source": [
    "a = \"waqar\"\n",
    "print(a)"
   ]
  },
  {
   "cell_type": "code",
   "execution_count": 7,
   "id": "816a7da8",
   "metadata": {},
   "outputs": [
    {
     "name": "stdout",
     "output_type": "stream",
     "text": [
      "enter any number:\n",
      "12\n"
     ]
    }
   ],
   "source": [
    "print(\"enter any number:\")\n",
    "a = input()"
   ]
  },
  {
   "cell_type": "code",
   "execution_count": 10,
   "id": "d43f85e4",
   "metadata": {},
   "outputs": [
    {
     "name": "stdout",
     "output_type": "stream",
     "text": [
      "nonononononoonononono\n"
     ]
    }
   ],
   "source": [
    "#conditional statements \n",
    "a = 2\n",
    "b=3\n",
    "if a>b:\n",
    "    print(\"yes! a is less than b\")\n",
    "else:\n",
    "    print(\"nonononononoonononono\")\n",
    "    \n",
    "    # through if statement and else statement \n",
    "    \n",
    "\n",
    "    "
   ]
  },
  {
   "cell_type": "code",
   "execution_count": 12,
   "id": "7799b416",
   "metadata": {},
   "outputs": [
    {
     "name": "stdout",
     "output_type": "stream",
     "text": [
      "enter the value of a:\n",
      "12\n",
      "enter now the value of b:\n",
      "12\n",
      "both are equal\n"
     ]
    }
   ],
   "source": [
    "print(\"enter the value of a:\")\n",
    "a= input()\n",
    "print(\"enter now the value of b:\")\n",
    "b= input()\n",
    "if a == b:\n",
    "    print(\"both are equal\")\n",
    "elif a > b:\n",
    "    print(\"a is greater than b\")\n",
    "elif a < b:\n",
    "    print(\"a is less than b\")\n",
    "else: \n",
    "    print(\"nothing\")\n",
    "    "
   ]
  },
  {
   "cell_type": "code",
   "execution_count": null,
   "id": "57980c7f",
   "metadata": {},
   "outputs": [],
   "source": []
  }
 ],
 "metadata": {
  "kernelspec": {
   "display_name": "Python 3 (ipykernel)",
   "language": "python",
   "name": "python3"
  },
  "language_info": {
   "codemirror_mode": {
    "name": "ipython",
    "version": 3
   },
   "file_extension": ".py",
   "mimetype": "text/x-python",
   "name": "python",
   "nbconvert_exporter": "python",
   "pygments_lexer": "ipython3",
   "version": "3.10.12"
  }
 },
 "nbformat": 4,
 "nbformat_minor": 5
}
